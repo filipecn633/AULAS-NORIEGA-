{
  "nbformat": 4,
  "nbformat_minor": 0,
  "metadata": {
    "colab": {
      "provenance": [],
      "authorship_tag": "ABX9TyMIqQJlm6v2D9rb6q5J15Qa",
      "include_colab_link": true
    },
    "kernelspec": {
      "name": "python3",
      "display_name": "Python 3"
    },
    "language_info": {
      "name": "python"
    }
  },
  "cells": [
    {
      "cell_type": "markdown",
      "metadata": {
        "id": "view-in-github",
        "colab_type": "text"
      },
      "source": [
        "<a href=\"https://colab.research.google.com/github/filipecn633/AULAS-NORIEGA-/blob/main/AULA_1_NORIEGA_20_8.ipynb\" target=\"_parent\"><img src=\"https://colab.research.google.com/assets/colab-badge.svg\" alt=\"Open In Colab\"/></a>"
      ]
    },
    {
      "cell_type": "markdown",
      "source": [
        "\n",
        "# **Inicio em Python**"
      ],
      "metadata": {
        "id": "STLb4eIK4zZ9"
      }
    },
    {
      "cell_type": "markdown",
      "source": [
        "# PRINT serve para imprimir o valor"
      ],
      "metadata": {
        "id": "_519ED-7KCQk"
      }
    },
    {
      "cell_type": "code",
      "execution_count": null,
      "metadata": {
        "colab": {
          "base_uri": "https://localhost:8080/"
        },
        "id": "6EgXX-Bl4H2L",
        "outputId": "d282c71b-dd39-4d44-cd81-c31e47c79b94"
      },
      "outputs": [
        {
          "output_type": "stream",
          "name": "stdout",
          "text": [
            "7\n"
          ]
        }
      ],
      "source": [
        "a=3\n",
        "b=4\n",
        "print(a+b)\n"
      ]
    },
    {
      "cell_type": "markdown",
      "source": [
        "# TYPE serve para mostrar qual o tipo de dado"
      ],
      "metadata": {
        "id": "iPWl8JHtKIBC"
      }
    },
    {
      "cell_type": "code",
      "source": [
        "type(a)\n",
        "\n"
      ],
      "metadata": {
        "colab": {
          "base_uri": "https://localhost:8080/"
        },
        "id": "H5c2eEDX5l7b",
        "outputId": "b0a7c5b0-ad8b-42c2-c3c1-6347491741e4"
      },
      "execution_count": null,
      "outputs": [
        {
          "output_type": "execute_result",
          "data": {
            "text/plain": [
              "int"
            ]
          },
          "metadata": {},
          "execution_count": 40
        }
      ]
    },
    {
      "cell_type": "markdown",
      "source": [
        "# / indica divisão"
      ],
      "metadata": {
        "id": "Yorqj4T0Kac6"
      }
    },
    {
      "cell_type": "code",
      "source": [
        "11/3"
      ],
      "metadata": {
        "colab": {
          "base_uri": "https://localhost:8080/"
        },
        "id": "c1BwDeS25uQT",
        "outputId": "6f0b4b5d-3081-4cca-e66f-c343d5e5d451"
      },
      "execution_count": null,
      "outputs": [
        {
          "output_type": "execute_result",
          "data": {
            "text/plain": [
              "3.6666666666666665"
            ]
          },
          "metadata": {},
          "execution_count": 3
        }
      ]
    },
    {
      "cell_type": "markdown",
      "source": [
        "# % indica a sobra que terá o resultado da divisão"
      ],
      "metadata": {
        "id": "Vl_pBvzqKhIj"
      }
    },
    {
      "cell_type": "code",
      "source": [
        "11%3"
      ],
      "metadata": {
        "colab": {
          "base_uri": "https://localhost:8080/"
        },
        "id": "B0qunR-G52a8",
        "outputId": "925f9b5a-4ec6-4edd-e5ee-f08aaf72c915"
      },
      "execution_count": null,
      "outputs": [
        {
          "output_type": "execute_result",
          "data": {
            "text/plain": [
              "2"
            ]
          },
          "metadata": {},
          "execution_count": 4
        }
      ]
    },
    {
      "cell_type": "markdown",
      "source": [
        "# ** indica elevação (ex2**3 é o mesmo que 2 elevado ao cubo ou elevado a 3)"
      ],
      "metadata": {
        "id": "Co8E44drKork"
      }
    },
    {
      "cell_type": "code",
      "source": [
        "2**3\n"
      ],
      "metadata": {
        "colab": {
          "base_uri": "https://localhost:8080/"
        },
        "id": "r8i-IN4t6LRL",
        "outputId": "65a1fe03-fc70-4217-9dd4-c4b9b4178041"
      },
      "execution_count": null,
      "outputs": [
        {
          "output_type": "execute_result",
          "data": {
            "text/plain": [
              "8"
            ]
          },
          "metadata": {},
          "execution_count": 5
        }
      ]
    },
    {
      "cell_type": "code",
      "source": [
        "a=3\n",
        "y=4\n",
        "z=5"
      ],
      "metadata": {
        "id": "jKDY6iKW6bkj"
      },
      "execution_count": null,
      "outputs": []
    },
    {
      "cell_type": "markdown",
      "source": [
        "# a=a+1 é a mesma coisa que a+=1"
      ],
      "metadata": {
        "id": "RAv2hdIYK4_r"
      }
    },
    {
      "cell_type": "code",
      "source": [
        "a=a+1\n",
        "print(a)"
      ],
      "metadata": {
        "colab": {
          "base_uri": "https://localhost:8080/"
        },
        "id": "cAhrmFih6o4u",
        "outputId": "eaeefdde-2c45-4920-c448-0f950fddf941"
      },
      "execution_count": null,
      "outputs": [
        {
          "output_type": "stream",
          "name": "stdout",
          "text": [
            "4\n"
          ]
        }
      ]
    },
    {
      "cell_type": "markdown",
      "source": [
        "# a=a+1 é a mesma coisa que a+=1"
      ],
      "metadata": {
        "id": "cWjQAISfLBP0"
      }
    },
    {
      "cell_type": "code",
      "source": [
        "a+=1\n",
        "print(a)"
      ],
      "metadata": {
        "colab": {
          "base_uri": "https://localhost:8080/"
        },
        "id": "r0EDkmVh67eW",
        "outputId": "8ba7bcf4-59f8-4191-e1e5-2966747476a3"
      },
      "execution_count": null,
      "outputs": [
        {
          "output_type": "stream",
          "name": "stdout",
          "text": [
            "5\n"
          ]
        }
      ]
    },
    {
      "cell_type": "code",
      "source": [
        "k=2.5\n",
        "type(k)"
      ],
      "metadata": {
        "colab": {
          "base_uri": "https://localhost:8080/"
        },
        "id": "KJkaUxbb8njS",
        "outputId": "5dfcba75-ac10-4335-9aab-569dd5610aaf"
      },
      "execution_count": null,
      "outputs": [
        {
          "output_type": "execute_result",
          "data": {
            "text/plain": [
              "float"
            ]
          },
          "metadata": {},
          "execution_count": 10
        }
      ]
    },
    {
      "cell_type": "code",
      "source": [
        "print(a+b,a-b,a*b,a/b)"
      ],
      "metadata": {
        "colab": {
          "base_uri": "https://localhost:8080/"
        },
        "id": "hs_5yy2R-nmL",
        "outputId": "d2029373-c93e-4e3a-be72-5a9d83e33b01"
      },
      "execution_count": null,
      "outputs": [
        {
          "output_type": "stream",
          "name": "stdout",
          "text": [
            "9 1 20 1.25\n"
          ]
        }
      ]
    },
    {
      "cell_type": "code",
      "source": [
        "x=5\n",
        "y=6\n",
        "z=7"
      ],
      "metadata": {
        "id": "QRM8WhES_BNI"
      },
      "execution_count": null,
      "outputs": []
    },
    {
      "cell_type": "markdown",
      "source": [
        "# EXEMPLO DE COMPARADORES\n",
        "<\n",
        ">\n",
        "<=\n",
        ">=\n",
        "==(indica a seguinte pergunta: é equivalente?)"
      ],
      "metadata": {
        "id": "4QjL6RulLIoc"
      }
    },
    {
      "cell_type": "code",
      "source": [
        "x<y"
      ],
      "metadata": {
        "colab": {
          "base_uri": "https://localhost:8080/"
        },
        "id": "LjtwsnnI_JIt",
        "outputId": "258f9a92-83ef-4edb-e4ad-c5fc0ecdd960"
      },
      "execution_count": null,
      "outputs": [
        {
          "output_type": "execute_result",
          "data": {
            "text/plain": [
              "True"
            ]
          },
          "metadata": {},
          "execution_count": 13
        }
      ]
    },
    {
      "cell_type": "code",
      "source": [
        "x<=z"
      ],
      "metadata": {
        "colab": {
          "base_uri": "https://localhost:8080/"
        },
        "id": "hWAGuEKW_Ub6",
        "outputId": "5465fa01-6b5e-4502-92ce-220b7b205c39"
      },
      "execution_count": null,
      "outputs": [
        {
          "output_type": "execute_result",
          "data": {
            "text/plain": [
              "True"
            ]
          },
          "metadata": {},
          "execution_count": 14
        }
      ]
    },
    {
      "cell_type": "code",
      "source": [
        "resultado=x==z\n",
        "type(resultado)"
      ],
      "metadata": {
        "colab": {
          "base_uri": "https://localhost:8080/"
        },
        "id": "Zp62sV5P_gDY",
        "outputId": "72aa152c-6076-42ac-b275-0c5de8c61111"
      },
      "execution_count": null,
      "outputs": [
        {
          "output_type": "execute_result",
          "data": {
            "text/plain": [
              "bool"
            ]
          },
          "metadata": {},
          "execution_count": 16
        }
      ]
    },
    {
      "cell_type": "code",
      "source": [
        "t=True\n",
        "f=False\n"
      ],
      "metadata": {
        "id": "E-JSXD1nCBye"
      },
      "execution_count": null,
      "outputs": []
    },
    {
      "cell_type": "code",
      "source": [
        "print(t and f)"
      ],
      "metadata": {
        "colab": {
          "base_uri": "https://localhost:8080/"
        },
        "id": "M-Aa2uolCnTP",
        "outputId": "dc9c0d33-6729-4b7d-ffa1-d7b6ee96e0eb"
      },
      "execution_count": null,
      "outputs": [
        {
          "output_type": "stream",
          "name": "stdout",
          "text": [
            "False\n"
          ]
        }
      ]
    },
    {
      "cell_type": "code",
      "source": [
        "print(not t)"
      ],
      "metadata": {
        "colab": {
          "base_uri": "https://localhost:8080/"
        },
        "id": "NMGVpICBC7Cw",
        "outputId": "27cf4ed5-b9fd-440b-d8be-d815ed8c0a41"
      },
      "execution_count": null,
      "outputs": [
        {
          "output_type": "stream",
          "name": "stdout",
          "text": [
            "False\n"
          ]
        }
      ]
    },
    {
      "cell_type": "code",
      "source": [
        "nome='Jose da Silva'\n",
        "print(nome)\n",
        "type(nome)"
      ],
      "metadata": {
        "colab": {
          "base_uri": "https://localhost:8080/"
        },
        "id": "pggOyUBtDJrA",
        "outputId": "ca49bf03-2169-4216-934d-8cc27aefb0be"
      },
      "execution_count": null,
      "outputs": [
        {
          "output_type": "stream",
          "name": "stdout",
          "text": [
            "Jose da Silva\n"
          ]
        },
        {
          "output_type": "execute_result",
          "data": {
            "text/plain": [
              "str"
            ]
          },
          "metadata": {},
          "execution_count": 25
        }
      ]
    },
    {
      "cell_type": "code",
      "source": [
        "\n",
        "print(nome)\n",
        "len(nome)"
      ],
      "metadata": {
        "colab": {
          "base_uri": "https://localhost:8080/"
        },
        "id": "_eT9-Xm3DiRo",
        "outputId": "014fae0a-eb3d-4115-820b-547cf8c7be05"
      },
      "execution_count": null,
      "outputs": [
        {
          "output_type": "stream",
          "name": "stdout",
          "text": [
            "Joao Souza\n"
          ]
        },
        {
          "output_type": "execute_result",
          "data": {
            "text/plain": [
              "10"
            ]
          },
          "metadata": {},
          "execution_count": 28
        }
      ]
    },
    {
      "cell_type": "code",
      "source": [
        "nome2=\"Carlos\"\n",
        "print(nome2)\n"
      ],
      "metadata": {
        "colab": {
          "base_uri": "https://localhost:8080/"
        },
        "id": "wJJcX7YjFBcQ",
        "outputId": "0704d0b3-84c3-43ab-d281-548d07e52b43"
      },
      "execution_count": null,
      "outputs": [
        {
          "output_type": "stream",
          "name": "stdout",
          "text": [
            "Carlos\n"
          ]
        }
      ]
    },
    {
      "cell_type": "markdown",
      "source": [
        "**LISTAS** (são tipos de vetores)\n"
      ],
      "metadata": {
        "id": "bUUJ_35NF8d8"
      }
    },
    {
      "cell_type": "markdown",
      "source": [
        "LEN serve para indicar quais os integrantes da lista e mostrar a quantia de integrantes"
      ],
      "metadata": {
        "id": "Vk3rrYbuJxYq"
      }
    },
    {
      "cell_type": "code",
      "source": [
        "L=[1,2,3,4]\n",
        "print(L)\n",
        "len(L)"
      ],
      "metadata": {
        "colab": {
          "base_uri": "https://localhost:8080/"
        },
        "id": "81ACfpL7F_ih",
        "outputId": "82c3a5c5-4255-4239-b107-5a4cd04f3cfb"
      },
      "execution_count": null,
      "outputs": [
        {
          "output_type": "stream",
          "name": "stdout",
          "text": [
            "[1, 2, 3, 4]\n"
          ]
        },
        {
          "output_type": "execute_result",
          "data": {
            "text/plain": [
              "4"
            ]
          },
          "metadata": {},
          "execution_count": 30
        }
      ]
    },
    {
      "cell_type": "code",
      "source": [
        "L2=[10,40,30,20]\n"
      ],
      "metadata": {
        "id": "yyoZ4-IVGTpI"
      },
      "execution_count": null,
      "outputs": []
    },
    {
      "cell_type": "markdown",
      "source": [
        "MIN serve para indicar o valor mínimo da lista"
      ],
      "metadata": {
        "id": "__z7YVvuJj4B"
      }
    },
    {
      "cell_type": "code",
      "source": [
        "min(L2)"
      ],
      "metadata": {
        "colab": {
          "base_uri": "https://localhost:8080/"
        },
        "id": "CgltYHnAGbLY",
        "outputId": "4d04f40a-787a-4dbe-e7a7-5c0e3ac84787"
      },
      "execution_count": null,
      "outputs": [
        {
          "output_type": "execute_result",
          "data": {
            "text/plain": [
              "10"
            ]
          },
          "metadata": {},
          "execution_count": 32
        }
      ]
    },
    {
      "cell_type": "markdown",
      "source": [
        "MAX serve para indicar o valro máximo da lista"
      ],
      "metadata": {
        "id": "nYLK-ch8JpIB"
      }
    },
    {
      "cell_type": "code",
      "source": [
        "max(L2)"
      ],
      "metadata": {
        "colab": {
          "base_uri": "https://localhost:8080/"
        },
        "id": "6hGh9mH8GfrI",
        "outputId": "7294a3f1-74db-4d94-b475-3f7729fa7438"
      },
      "execution_count": null,
      "outputs": [
        {
          "output_type": "execute_result",
          "data": {
            "text/plain": [
              "40"
            ]
          },
          "metadata": {},
          "execution_count": 33
        }
      ]
    },
    {
      "cell_type": "markdown",
      "source": [
        "SUM serve para somar todos os integrantes da lista"
      ],
      "metadata": {
        "id": "zuujw_BdJhbp"
      }
    },
    {
      "cell_type": "code",
      "source": [
        "sum(L2)"
      ],
      "metadata": {
        "colab": {
          "base_uri": "https://localhost:8080/"
        },
        "id": "A2NLB1uJGkwq",
        "outputId": "8f642e2c-b489-4f60-dfa9-e1ead1349b20"
      },
      "execution_count": null,
      "outputs": [
        {
          "output_type": "execute_result",
          "data": {
            "text/plain": [
              "100"
            ]
          },
          "metadata": {},
          "execution_count": 34
        }
      ]
    },
    {
      "cell_type": "code",
      "source": [
        "print(L2)"
      ],
      "metadata": {
        "colab": {
          "base_uri": "https://localhost:8080/"
        },
        "id": "BURqlj01Gssx",
        "outputId": "3b1dac63-9955-4262-bf3d-d1ad07591e2e"
      },
      "execution_count": null,
      "outputs": [
        {
          "output_type": "stream",
          "name": "stdout",
          "text": [
            "[10, 40, 30, 20]\n"
          ]
        }
      ]
    },
    {
      "cell_type": "markdown",
      "source": [
        "APPEND serve para adicionar um elemento"
      ],
      "metadata": {
        "id": "Ivl4JDgkJI9J"
      }
    },
    {
      "cell_type": "code",
      "source": [
        "L2.append(100)\n",
        "print(L2)"
      ],
      "metadata": {
        "colab": {
          "base_uri": "https://localhost:8080/"
        },
        "id": "iFNTrwK_GwLp",
        "outputId": "dc4d93ec-d19f-4f8d-ff19-9704b2d69b65"
      },
      "execution_count": null,
      "outputs": [
        {
          "output_type": "stream",
          "name": "stdout",
          "text": [
            "[10, 40, 30, 20, 100]\n"
          ]
        }
      ]
    },
    {
      "cell_type": "code",
      "source": [
        "\n",
        "print(L2)"
      ],
      "metadata": {
        "colab": {
          "base_uri": "https://localhost:8080/"
        },
        "id": "YjnqcjdfG-qR",
        "outputId": "408a8c59-7d9a-4774-ea28-81dfcf4bb87a"
      },
      "execution_count": null,
      "outputs": [
        {
          "output_type": "stream",
          "name": "stdout",
          "text": [
            "[10, 20, 30, 40, 100]\n"
          ]
        }
      ]
    },
    {
      "cell_type": "markdown",
      "source": [
        "REVERSE serve para ordenar do maior para o menor"
      ],
      "metadata": {
        "id": "jzeEiNrGI7la"
      }
    },
    {
      "cell_type": "code",
      "source": [
        "L2.reverse()\n",
        "print(L2)"
      ],
      "metadata": {
        "colab": {
          "base_uri": "https://localhost:8080/"
        },
        "id": "ZZ56Lv7qHzZi",
        "outputId": "40da98c0-c28e-46a6-837c-2baceb6fde1d"
      },
      "execution_count": null,
      "outputs": [
        {
          "output_type": "stream",
          "name": "stdout",
          "text": [
            "[100, 40, 30, 20, 10]\n"
          ]
        }
      ]
    },
    {
      "cell_type": "code",
      "source": [
        "L2.extend([1,2,3])\n",
        "print(L2)"
      ],
      "metadata": {
        "colab": {
          "base_uri": "https://localhost:8080/"
        },
        "id": "BIrEbGnqNFWj",
        "outputId": "f28cc5e5-5d3e-4d75-f22d-e7756aa62400"
      },
      "execution_count": null,
      "outputs": [
        {
          "output_type": "stream",
          "name": "stdout",
          "text": [
            "[100, 40, 30, 20, 10, 1, 2, 3]\n"
          ]
        }
      ]
    },
    {
      "cell_type": "code",
      "source": [],
      "metadata": {
        "id": "y966J4VRNUa6"
      },
      "execution_count": null,
      "outputs": []
    },
    {
      "cell_type": "markdown",
      "source": [
        "# DICIONÁRIO"
      ],
      "metadata": {
        "id": "7YYxorKzNTQV"
      }
    },
    {
      "cell_type": "code",
      "source": [
        "Precos = {'lapis': 5.5, 'borracha': 7.0, 'caneta': 6.5}"
      ],
      "metadata": {
        "id": "xx17vtq5NaGX"
      },
      "execution_count": null,
      "outputs": []
    },
    {
      "cell_type": "code",
      "source": [
        "Precos.keys()"
      ],
      "metadata": {
        "colab": {
          "base_uri": "https://localhost:8080/"
        },
        "id": "I_CplduJOU6B",
        "outputId": "5ddd149f-aff5-4336-b5b0-522ce92b88ec"
      },
      "execution_count": null,
      "outputs": [
        {
          "output_type": "execute_result",
          "data": {
            "text/plain": [
              "dict_keys(['lapis', 'borracha', 'caneta'])"
            ]
          },
          "metadata": {},
          "execution_count": 49
        }
      ]
    },
    {
      "cell_type": "code",
      "source": [
        "Precos.values()"
      ],
      "metadata": {
        "colab": {
          "base_uri": "https://localhost:8080/"
        },
        "id": "s9-ngpokOrM1",
        "outputId": "5be4700c-1c9f-442d-bfea-722e80807000"
      },
      "execution_count": null,
      "outputs": [
        {
          "output_type": "execute_result",
          "data": {
            "text/plain": [
              "dict_values([5.5, 7.0, 6.5])"
            ]
          },
          "metadata": {},
          "execution_count": 50
        }
      ]
    },
    {
      "cell_type": "code",
      "source": [
        "print(\"o preço da borracha eh:\", Precos ['borracha'])"
      ],
      "metadata": {
        "colab": {
          "base_uri": "https://localhost:8080/"
        },
        "id": "_LZfAl2HOxHz",
        "outputId": "673b4677-bd73-4b37-bbdd-c1da31c50abb"
      },
      "execution_count": null,
      "outputs": [
        {
          "output_type": "stream",
          "name": "stdout",
          "text": [
            "o preço da borracha eh: 7.0\n"
          ]
        }
      ]
    },
    {
      "cell_type": "code",
      "source": [
        "print('caneta' in Precos)"
      ],
      "metadata": {
        "colab": {
          "base_uri": "https://localhost:8080/"
        },
        "id": "iWdxGEgWPI17",
        "outputId": "ebe81e08-75c2-4580-c5f9-a9b7d401d879"
      },
      "execution_count": null,
      "outputs": [
        {
          "output_type": "stream",
          "name": "stdout",
          "text": [
            "True\n"
          ]
        }
      ]
    },
    {
      "cell_type": "markdown",
      "source": [
        "# RANGE significa alcance (o último não é considerado)"
      ],
      "metadata": {
        "id": "11nc5tHuPzTm"
      }
    },
    {
      "cell_type": "code",
      "source": [
        "L1= list(range(5))\n",
        "print(L1)"
      ],
      "metadata": {
        "colab": {
          "base_uri": "https://localhost:8080/"
        },
        "id": "V66_z0S8PRjr",
        "outputId": "080a1785-793a-45e4-fd5d-3f5f3a012355"
      },
      "execution_count": null,
      "outputs": [
        {
          "output_type": "stream",
          "name": "stdout",
          "text": [
            "[0, 1, 2, 3, 4]\n"
          ]
        }
      ]
    },
    {
      "cell_type": "code",
      "source": [
        "L2 = list(range(3,8))\n",
        "print(L2)"
      ],
      "metadata": {
        "colab": {
          "base_uri": "https://localhost:8080/"
        },
        "id": "VLkTCfLuPeO1",
        "outputId": "a2ac1681-fe1c-436e-ca49-5dbddb6340c6"
      },
      "execution_count": null,
      "outputs": [
        {
          "output_type": "stream",
          "name": "stdout",
          "text": [
            "[3, 4, 5, 6, 7]\n"
          ]
        }
      ]
    },
    {
      "cell_type": "code",
      "source": [
        "L3 = list(range(2,11,3))\n",
        "print(L3)\n"
      ],
      "metadata": {
        "colab": {
          "base_uri": "https://localhost:8080/"
        },
        "id": "7wbxhbq_Pm3Q",
        "outputId": "eda43792-fdba-4314-f6c7-ed05beb74940"
      },
      "execution_count": null,
      "outputs": [
        {
          "output_type": "stream",
          "name": "stdout",
          "text": [
            "[2, 5, 8]\n"
          ]
        }
      ]
    },
    {
      "cell_type": "code",
      "source": [
        "def soma(a,b):\n",
        "  return a+b"
      ],
      "metadata": {
        "id": "jGoTE08wUc-E"
      },
      "execution_count": null,
      "outputs": []
    },
    {
      "cell_type": "code",
      "source": [
        "rpta=soma(5,3)\n",
        "print(rpta)"
      ],
      "metadata": {
        "colab": {
          "base_uri": "https://localhost:8080/"
        },
        "id": "Oe6tqR94UqMl",
        "outputId": "3676b2dd-43d8-493b-cbd0-99a38bbb9e1f"
      },
      "execution_count": null,
      "outputs": [
        {
          "output_type": "stream",
          "name": "stdout",
          "text": [
            "8\n"
          ]
        }
      ]
    },
    {
      "cell_type": "code",
      "source": [
        "def soma(a,b):\n",
        "  c=a+b\n",
        "  return c"
      ],
      "metadata": {
        "id": "rZW2u732VE0U"
      },
      "execution_count": null,
      "outputs": []
    },
    {
      "cell_type": "code",
      "source": [
        "def leitura():\n",
        "  nome=input('Digite seu nome: ')\n",
        "  sobrenome=input('Digite seu sobrenome: ')\n",
        "  nomecompleto = nome+\" \"+sobrenome\n",
        "  print(\"seu nome completo eh:\", nomecompleto)"
      ],
      "metadata": {
        "id": "mtz7rg0iVnCd"
      },
      "execution_count": null,
      "outputs": []
    },
    {
      "cell_type": "code",
      "source": [
        "leitura()"
      ],
      "metadata": {
        "colab": {
          "base_uri": "https://localhost:8080/"
        },
        "id": "DZskrHfXWfRk",
        "outputId": "bf9e8c2f-c635-43d1-b214-b41999dad188"
      },
      "execution_count": null,
      "outputs": [
        {
          "output_type": "stream",
          "name": "stdout",
          "text": [
            "Digite seu nome: Carlos\n",
            "Digite seu sobrenome: Noriega\n",
            "seu nome completo eh: Carlos Noriega\n"
          ]
        }
      ]
    }
  ]
}